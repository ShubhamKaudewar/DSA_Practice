{
 "cells": [
  {
   "cell_type": "code",
   "execution_count": null,
   "id": "initial_id",
   "metadata": {
    "collapsed": true
   },
   "outputs": [],
   "source": [
    ""
   ]
  },
  {
   "metadata": {},
   "cell_type": "markdown",
   "source": [
    "Prim’s algorithm is a Greedy algorithm like Kruskal's algorithm. This algorithm always starts with a single node and moves through several adjacent nodes, in order to explore all of the connected edges along the way.\n",
    "\n",
    "- The algorithm starts with an empty spanning tree.\n",
    "- The idea is to maintain two sets of vertices. The first set contains the vertices already included in the MST, and the other set contains the vertices not yet included.\n",
    "- At every step, it considers all the edges that connect the two sets and picks the minimum weight edge from these edges. After picking the edge, it moves the other endpoint of the edge to the set containing MST.\n",
    "- A group of edges that connects two sets of vertices in a graph is called Articulation Points (or Cut Vertices) in graph theory. So, at every step of Prim’s algorithm, find a cut, pick the minimum weight edge from the cut, and include this vertex in MST Set (the set that contains already included vertices)."
   ],
   "id": "564b1e72518b2927"
  },
  {
   "metadata": {},
   "cell_type": "markdown",
   "source": [
    "# Working of the Prim's Algorithm\n",
    "**Step 1:** Determine an arbitrary vertex as the starting vertex of the MST. We pick 0 in the below diagram. </br>\n",
    "**Step 2:** Follow steps 3 to 5 till there are vertices that are not included in the MST (known as fringe vertex).</br>\n",
    "**Step 3:** Find edges connecting any tree vertex with the fringe vertices.</br>\n",
    "**Step 4:** Find the minimum among these edges.</br>\n",
    "**Step 5:** Add the chosen edge to the MST. Since we consider only the edges that connect fringe vertices with the rest, we never get a cycle.</br>\n",
    "**Step 6:** Return the MST and exit</br>"
   ],
   "id": "7253b1e071ab3e19"
  }
 ],
 "metadata": {
  "kernelspec": {
   "display_name": "Python 3",
   "language": "python",
   "name": "python3"
  },
  "language_info": {
   "codemirror_mode": {
    "name": "ipython",
    "version": 2
   },
   "file_extension": ".py",
   "mimetype": "text/x-python",
   "name": "python",
   "nbconvert_exporter": "python",
   "pygments_lexer": "ipython2",
   "version": "2.7.6"
  }
 },
 "nbformat": 4,
 "nbformat_minor": 5
}
